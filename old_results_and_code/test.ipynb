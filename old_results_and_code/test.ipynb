{
 "cells": [
  {
   "cell_type": "code",
   "execution_count": 15,
   "metadata": {},
   "outputs": [
    {
     "name": "stdout",
     "output_type": "stream",
     "text": [
      "[1, 21]\n"
     ]
    }
   ],
   "source": [
    "import hashlib\n",
    "import modules.shared as shared\n",
    "\n",
    "\n",
    "def secure_hash_to_numbers(input_string, range_list):\n",
    "    hashed_bytes = hashlib.sha256(input_string.encode()).digest()\n",
    "    \n",
    "\n",
    "    num_numbers = len(range_list)\n",
    "    hashed_integers = [int.from_bytes(hashed_bytes[i:i+4], byteorder='big') for i in range(0, num_numbers * 4, 4)]\n",
    "\n",
    "    #cast hash to integer, then use modulo to map to required range\n",
    "    \n",
    "    result_numbers = []\n",
    "    for i in range(num_numbers):\n",
    "        range_min, range_max = range_list[i]\n",
    "        integer = hashed_integers[i]\n",
    "        mapped_number = (integer % (range_max - range_min + 1)) + range_min\n",
    "        result_numbers.append(mapped_number)\n",
    "    \n",
    "    return result_numbers\n",
    "\n",
    "\n",
    "input_string  = 'The 24 Hours of Le Mans is a endurance race that takes place at the Circuit de la Sarthe, near the town of Le Mans, France.'\n",
    "range_list = [(0, 10), (0, 25)] \n",
    "\n",
    "generated_numbers = secure_hash_to_numbers(input_string, range_list)\n",
    "print(generated_numbers)"
   ]
  },
  {
   "cell_type": "code",
   "execution_count": 34,
   "metadata": {},
   "outputs": [
    {
     "name": "stdout",
     "output_type": "stream",
     "text": [
      "['Torso.mean']\n"
     ]
    }
   ],
   "source": [
    "import pandas as pd\n",
    "import modules.shared as shared\n",
    "df = pd.read_csv('Lancaster_sensorimotor_norms_for_39707_words.csv', header=0)  #the header is in the first row\n",
    "\n",
    "shared.classes = ['Auditory.mean', 'Gustatory.mean','Haptic.mean','Interoceptive.mean','Olfactory.mean','Visual.mean','Foot_leg.mean','Hand_arm.mean','Head.mean','Mouth.mean','Torso.mean']\n",
    "\n",
    "\n",
    "shared.sensorimotor = df.set_index('Word').T.to_dict('dict')\n",
    "\n",
    "print([shared.classes[10]])\n",
    "#classes_to_remove = ['Torso', 'Haptic', 'Gustatory', 'Foot_leg', 'Olfactory']\n",
    "#shared.sensorimotor = {item: class_name for item, class_name in shared.sensorimotor.items() if class_name not in classes_to_remove}\n",
    "\n",
    "#shared.classes = list(set(shared.sensorimotor.values()))"
   ]
  },
  {
   "cell_type": "code",
   "execution_count": 5,
   "metadata": {},
   "outputs": [
    {
     "name": "stdout",
     "output_type": "stream",
     "text": [
      "[(0, 0), (1, 0), (2, 0), (3, 0), (4, 0), (5, 0), (6, 0), (7, 0), (8, 0), (9, 0)]\n",
      "[(0, 0), (1, 0), ['apple', 2.0], (3, 0), (4, 0), (5, 0), (6, 0), (7, 0), (8, 0), (9, 0)]\n",
      "[(0, 0)]\n"
     ]
    }
   ],
   "source": [
    "num_list = [(n, 0) for n in range(10)]  # This creates a list of tuples for numbers 0 to 9\n",
    "\n",
    "# Print the list\n",
    "print(num_list)\n",
    "\n",
    "\n",
    "num_list[2] = ['apple', 2.0]\n",
    "\n",
    "\n",
    "\n",
    "print(num_list)\n",
    "\n",
    "\n",
    "greenlist_ids = num_list[:1]\n",
    "print(greenlist_ids)"
   ]
  },
  {
   "cell_type": "code",
   "execution_count": 49,
   "metadata": {},
   "outputs": [
    {
     "name": "stdout",
     "output_type": "stream",
     "text": [
      "{'Visual': 22774, 'Auditory': 2690, 'Head': 7740, 'Interoceptive': 1766, 'Mouth': 1166, 'Hand_arm': 1434}\n"
     ]
    }
   ],
   "source": [
    "import spacy\n",
    "\n",
    "# Load the English language model\n",
    "nlp = spacy.load(\"en_core_web_sm\")\n",
    "\n",
    "def split_into_sentences(text):\n",
    "    doc = nlp(text)\n",
    "    sentences = [sent.text for sent in doc.sents]\n",
    "    return sentences\n",
    "\n",
    "input_text = \"This is the first sentence. Here is the second one. Finally, the last sentence.\"\n",
    "sentences = split_into_sentences(input_text)\n",
    "\n",
    "def get_words_in_sentence(sentence):\n",
    "    doc = nlp(sentence)\n",
    "    words = [token.text for token in doc if not token.is_punct and not token.is_space]\n",
    "    return words\n",
    "\n",
    "import pandas as pd\n",
    "df = pd.read_csv('Lancaster_sensorimotor_norms_for_39707_words.csv', header=0)  #the header is in the first row\n",
    "\n",
    "words = df.iloc[:, 0]\n",
    "value = df.iloc[:, 34]\n",
    "\n",
    "selected_columns = df[['Word', 'Dominant.sensorimotor']]  # Specify the columns you want to convert to a dictionary\n",
    "shared.sensorimotor = selected_columns.set_index('Word')['Dominant.sensorimotor'].to_dict()\n",
    "\n",
    "classes_to_remove = ['Torso', 'Haptic', 'Gustatory', 'Foot_leg', 'Olfactory']\n",
    "shared.sensorimotor = {item: class_name for item, class_name in shared.sensorimotor.items() if class_name not in classes_to_remove}\n",
    "\n",
    "\n",
    "\n",
    "class_counts = {}\n",
    "\n",
    "for item, class_name in shared.sensorimotor.items():\n",
    "    if class_name in class_counts:\n",
    "        class_counts[class_name] += 1\n",
    "    else:\n",
    "        class_counts[class_name] = 1\n",
    "\n",
    "print(class_counts)"
   ]
  },
  {
   "cell_type": "code",
   "execution_count": 54,
   "metadata": {},
   "outputs": [
    {
     "name": "stdout",
     "output_type": "stream",
     "text": [
      "Sentence 1: The 24 Hours of Le Mans is a endurance race that takes place at the Circuit de la Sarthe, near the town of Le Mans, France.\n",
      "[1, 21]\n",
      "V Olfactory\n",
      "['The', '24', 'Hours', 'of', 'Le', 'Mans', 'is', 'a', 'endurance', 'race', 'that', 'takes', 'place', 'at', 'the', 'Circuit', 'de', 'la', 'Sarthe', 'near', 'the', 'town', 'of', 'Le', 'Mans', 'France']\n",
      "The Auditory\n",
      "of Auditory\n",
      "is Head\n",
      "a Visual\n",
      "endurance Head\n",
      "race Visual\n",
      "that Visual\n",
      "place Visual\n",
      "at Visual\n",
      "the Auditory\n",
      "Circuit Visual\n",
      "near Visual\n",
      "the Auditory\n",
      "town Visual\n",
      "of Auditory\n",
      "Sentence 2: Qualifying races are held to determine starting positions and set the order for the main event.\n",
      "[4, 0]\n",
      "A Gustatory\n",
      "['Qualifying', 'races', 'are', 'held', 'to', 'determine', 'starting', 'positions', 'and', 'set', 'the', 'order', 'for', 'the', 'main', 'event']\n",
      "are Head\n",
      "to Head\n",
      "determine Head\n",
      "and Auditory\n",
      "set Visual\n",
      "the Auditory\n",
      "order Mouth\n",
      "for Head\n",
      "the Auditory\n",
      "main Head\n",
      "event Visual\n",
      "Sentence 3: The race itself lasts for 24 hours, with drivers competing against each other on track.\n",
      "[10, 21]\n",
      "V Head\n",
      "['The', 'race', 'itself', 'lasts', 'for', '24', 'hours', 'with', 'drivers', 'competing', 'against', 'each', 'other', 'on', 'track']\n",
      "The Auditory\n",
      "race Visual\n",
      "itself Visual\n",
      "for Head\n",
      "with Visual\n",
      "against Visual\n",
      "each Visual\n",
      "other Visual\n",
      "on Visual\n",
      "track Visual\n",
      "Sentence 4: Various classes of cars compete simultaneously, including LMP1 (Le Mans Prototype One), LMP2 (Le Mans Prototype Two) and GT (Grand Tourer).\n",
      "[1, 8]\n",
      "I Olfactory\n",
      "['Various', 'classes', 'of', 'cars', 'compete', 'simultaneously', 'including', 'LMP1', 'Le', 'Mans', 'Prototype', 'One', 'LMP2', 'Le', 'Mans', 'Prototype', 'Two', 'and', 'GT', 'Grand', 'Tourer']\n",
      "Various Visual\n",
      "classes Head\n",
      "of Auditory\n",
      "compete Head\n",
      "simultaneously Visual\n",
      "including Head\n",
      "Prototype Visual\n",
      "One Visual\n",
      "Prototype Visual\n",
      "Two Visual\n",
      "and Auditory\n",
      "Grand Visual\n",
      "Sentence 5: Drivers must work together as a team to manage their cars performance, fuel consumption, tire wear and mechanical issues while driving through daylight and darkness.\n",
      "[3, 25]\n",
      "Z Torso\n",
      "['Drivers', 'must', 'work', 'together', 'as', 'a', 'team', 'to', 'manage', 'their', 'cars', 'performance', 'fuel', 'consumption', 'tire', 'wear', 'and', 'mechanical', 'issues', 'while', 'driving', 'through', 'daylight', 'and', 'darkness']\n",
      "must Interoceptive\n",
      "work Head\n",
      "together Visual\n",
      "as Auditory\n",
      "a Visual\n",
      "team Visual\n",
      "to Head\n",
      "manage Visual\n",
      "their Visual\n",
      "performance Visual\n",
      "consumption Mouth\n",
      "tire Visual\n",
      "and Auditory\n",
      "mechanical Visual\n",
      "while Head\n",
      "driving Visual\n",
      "through Visual\n",
      "daylight Visual\n",
      "and Auditory\n",
      "darkness Visual\n",
      "Sentence 6: Only one driver can be behind the wheel of the car at any given time, but they may swap out after completing a stint.\n",
      "[4, 22]\n",
      "W Gustatory\n",
      "['Only', 'one', 'driver', 'can', 'be', 'behind', 'the', 'wheel', 'of', 'the', 'car', 'at', 'any', 'given', 'time', 'but', 'they', 'may', 'swap', 'out', 'after', 'completing', 'a', 'stint']\n",
      "Only Visual\n",
      "one Visual\n",
      "driver Visual\n",
      "can Visual\n",
      "be Head\n",
      "behind Visual\n",
      "the Auditory\n",
      "wheel Visual\n",
      "of Auditory\n",
      "the Auditory\n",
      "car Visual\n",
      "at Visual\n",
      "any Visual\n",
      "given Visual\n",
      "time Head\n",
      "but Auditory\n",
      "they Head\n",
      "may Visual\n",
      "swap Visual\n",
      "out Visual\n",
      "after Head\n",
      "a Visual\n",
      "stint Head\n",
      "Sentence 7: Whether its a solo drive or a double stint, every lap counts towards the final result.\n",
      "[7, 4]\n",
      "E Auditory\n",
      "['Whether', 'its', 'a', 'solo', 'drive', 'or', 'a', 'double', 'stint', 'every', 'lap', 'counts', 'towards', 'the', 'final', 'result']\n",
      "Whether Head\n",
      "its Head\n",
      "a Visual\n",
      "solo Visual\n",
      "drive Hand_arm\n",
      "or Head\n",
      "a Visual\n",
      "double Visual\n",
      "stint Head\n",
      "every Visual\n",
      "lap Visual\n",
      "towards Visual\n",
      "the Auditory\n",
      "final Head\n",
      "result Visual\n"
     ]
    }
   ],
   "source": [
    "text = 'The 24 Hours of Le Mans is a endurance race that takes place at the Circuit de la Sarthe, near the town of Le Mans, France. Qualifying races are held to determine starting positions and set the order for the main event. The race itself lasts for 24 hours, with drivers competing against each other on track. Various classes of cars compete simultaneously, including LMP1 (Le Mans Prototype One), LMP2 (Le Mans Prototype Two) and GT (Grand Tourer). Drivers must work together as a team to manage their cars performance, fuel consumption, tire wear and mechanical issues while driving through daylight and darkness. Only one driver can be behind the wheel of the car at any given time, but they may swap out after completing a stint. Whether its a solo drive or a double stint, every lap counts towards the final result.'\n",
    "\n",
    "sentences = split_into_sentences(text)\n",
    "for idx, sentence in enumerate(sentences, start=1):\n",
    "    generated_numbers = secure_hash_to_numbers(sentence, range_list)\n",
    "    print(f\"Sentence {idx}: {sentence}\")\n",
    "    print(generated_numbers)\n",
    "    print(chr(ord('A') + generated_numbers[1]), shared.classes[generated_numbers[0]] )\n",
    "\n",
    "    word_list = get_words_in_sentence(sentence)\n",
    "    print(word_list)\n",
    "\n",
    "    value_counts = {'Interoceptive': 0, 'Olfactory': 0, 'Mouth': 0, 'Torso': 0, 'Gustatory': 0, 'Visual': 0, 'Foot_leg': 0, 'Auditory': 0, 'Hand_arm': 0, 'Haptic': 0, 'Head': 0}\n",
    "    for key in word_list:\n",
    "        if key.upper() in shared.sensorimotor:\n",
    "            print(key, shared.sensorimotor[key.upper()])\n",
    "            value_counts[shared.sensorimotor[key.upper()]] += 1\n",
    "\n",
    "    #for value, count in value_counts.items():\n",
    "        #print(f\"{value}: {count} \", end=\"\")\n",
    "        \n"
   ]
  },
  {
   "cell_type": "code",
   "execution_count": 2,
   "metadata": {},
   "outputs": [],
   "source": [
    "from transformers import pipeline\n",
    "classifier = pipeline(\"zero-shot-classification\",\n",
    "                      model=\"facebook/bart-large-mnli\")"
   ]
  },
  {
   "cell_type": "code",
   "execution_count": 3,
   "metadata": {},
   "outputs": [],
   "source": [
    "def label_sentence(sequence_to_classify):\n",
    "    labels = [\n",
    "        \"Statement\",      # Declarative statements or assertions\n",
    "        \"Question\",       # Any form of inquiry or query\n",
    "        \"Request\",        # Sentences that ask for something\n",
    "        \"Command\",        # Imperative or directive statements\n",
    "        \"Offer\",          # Proposals or suggestions\n",
    "        \"Explanation\",    # Providing clarifications or reasons\n",
    "        \"Description\",    # Descriptive details about something\n",
    "        \"Opinion\",        # Personal views or judgments\n",
    "        \"Fact\",           # Factual or objective information\n",
    "        \"Assumption\",     # Sentences based on assumptions\n",
    "        \"Belief\",         # Expressions of belief or conviction\n",
    "        \"Doubt\",          # Expressions of uncertainty or skepticism\n",
    "        \"Hope\",           # Sentences expressing hope or aspiration\n",
    "        \"Wish\",           # Expressions of desires or wishes\n",
    "        \"Fear\",           # Statements expressing fear or concern\n",
    "        \"Joy\",            # Expressions of happiness or joy\n",
    "        \"Sadness\",        # Expressions of sorrow or sadness\n",
    "        \"Anger\",          # Statements expressing anger or frustration\n",
    "        \"Surprise\",       # Expressions of surprise or astonishment\n",
    "        \"Sarcasm\",        # Sarcastic or ironic statements\n",
    "        \"Joke\",           # Humorous or joking statements\n",
    "        \"Quote\",          # Quotations or cited speech\n",
    "        \"Agreement\",      # Expressions of agreement or affirmation\n",
    "        \"Disagreement\",   # Expressions of disagreement or dissent\n",
    "        \"Gratitude\",      # Expressions of thanks or appreciation\n",
    "        \"Apology\"         # Statements of apology or regret\n",
    "    ]\n",
    "\n",
    "    labels2 = [\n",
    "        \"Health\",\n",
    "        \"Technology\",\n",
    "        \"Politics\",\n",
    "        \"Economy\",\n",
    "        \"Education\",\n",
    "        \"Environment\",\n",
    "        \"Sports\",\n",
    "        \"Travel\",\n",
    "        \"Food\",\n",
    "        \"Music\",\n",
    "        \"Business\"\n",
    "    ]\n",
    "\n",
    "    results = classifier(sequence_to_classify, labels)\n",
    "    predicted_label = results['labels'][0]\n",
    "    label_index = labels.index(predicted_label)\n",
    "\n",
    "    print(label_index)\n",
    "\n",
    "    results2 = classifier(sequence_to_classify, labels2)\n",
    "    predicted_label2 = results2['labels'][0]\n",
    "    label_index2 = labels2.index(predicted_label2)\n",
    "\n",
    "    results2 = classifier(sequence_to_classify, labels2)\n",
    "    #predicted_label2 = results2['labels'][0]\n",
    "    #label_index2 = labels2.index(predicted_label2)\n",
    "\n",
    "    print(label_index2)"
   ]
  },
  {
   "cell_type": "code",
   "execution_count": 4,
   "metadata": {},
   "outputs": [
    {
     "name": "stdout",
     "output_type": "stream",
     "text": [
      "6\n",
      "1\n"
     ]
    }
   ],
   "source": [
    "sequence_to_classify1 = \"one day I will see the world\"\n",
    "candidate_labels = ['Factual Statement', 'Opinion or Belief','Question or Inquiry']\n",
    "\n",
    "sequence_to_classify2 = \"Glass is made by heating sand until it melts, then pouring the molten sand into a mold.\"\n",
    "sequence_to_classify3 = \"A mechanism by which green plants use sunlight to make food.\"\n",
    "sequence_to_classify4 = \"Carbon dioxide and water are broken down into sugar with energy released in a series of steps called the light reaction. \"\n",
    "sequence_to_classify5 = \"Next, a different group of steps oxidizes the sugar to produce water, carbon dioxide, and energy again. \"\n",
    "sequence_to_classify6 = \"The sugar is broken down in a reaction with oxygen to make water and release energy\"\n",
    "\n",
    "\n",
    "label_sentence(sequence_to_classify2)"
   ]
  },
  {
   "cell_type": "code",
   "execution_count": 98,
   "metadata": {},
   "outputs": [
    {
     "name": "stdout",
     "output_type": "stream",
     "text": [
      "5\n",
      "8\n"
     ]
    }
   ],
   "source": [
    "label_sentence(sequence_to_classify3)"
   ]
  },
  {
   "cell_type": "code",
   "execution_count": 99,
   "metadata": {},
   "outputs": [
    {
     "name": "stdout",
     "output_type": "stream",
     "text": [
      "6\n",
      "5\n"
     ]
    }
   ],
   "source": [
    "label_sentence(sequence_to_classify4)"
   ]
  },
  {
   "cell_type": "code",
   "execution_count": 100,
   "metadata": {},
   "outputs": [
    {
     "name": "stdout",
     "output_type": "stream",
     "text": [
      "1\n",
      "1\n"
     ]
    }
   ],
   "source": [
    "label_sentence(sequence_to_classify5)"
   ]
  },
  {
   "cell_type": "code",
   "execution_count": 101,
   "metadata": {},
   "outputs": [
    {
     "name": "stdout",
     "output_type": "stream",
     "text": [
      "1\n",
      "5\n"
     ]
    }
   ],
   "source": [
    "label_sentence(sequence_to_classify6)"
   ]
  },
  {
   "cell_type": "code",
   "execution_count": 102,
   "metadata": {},
   "outputs": [
    {
     "name": "stdout",
     "output_type": "stream",
     "text": [
      "8\n",
      "7\n"
     ]
    }
   ],
   "source": [
    "label_sentence(\" A body will remain at rest or in uniform motion in a straight line unless it is compelled to change its state by forces impressed on it. Quite simply, this means that an object at rest stays at rest and an object in motion stays in motion with the same speed and direction unless acted upon by an unbalanced force.\")"
   ]
  },
  {
   "cell_type": "code",
   "execution_count": 1,
   "metadata": {},
   "outputs": [
    {
     "name": "stdout",
     "output_type": "stream",
     "text": [
      "[1, 6]\n"
     ]
    }
   ],
   "source": [
    "import subprocess\n",
    "import json\n",
    "\n",
    "input_string = \"Glass is made by heating sand until it melts, then pouring the molten sand into a mold.\"\n",
    "\n",
    "\n",
    "# Path to the Python interpreter of the target environment\n",
    "python_env_path = '/home/georg/mambaforge/envs/classifier/bin/python'\n",
    "script_path = 'modules/classifier.py'\n",
    "input_text = input_string\n",
    "\n",
    "# Run the script with an argument and capture its output\n",
    "completed_process = subprocess.run([python_env_path, script_path, input_text], \n",
    "                                text=True, capture_output=True)\n",
    "\n",
    "# Extract the result\n",
    "result = completed_process.stdout.strip()\n",
    "\n",
    "# Assuming the output is a string representation of a Python dictionary\n",
    "result_dict = json.loads(result)\n",
    "print(result_dict)"
   ]
  },
  {
   "cell_type": "code",
   "execution_count": 6,
   "metadata": {},
   "outputs": [
    {
     "name": "stdout",
     "output_type": "stream",
     "text": [
      "Output from classifier: Processed This\n"
     ]
    }
   ],
   "source": [
    "import subprocess\n",
    "def run_classifier(param):\n",
    "    # Replace 'your_conda_env' with the name of your Conda environment\n",
    "    run_classifier_script = f\"mamba run -n classifier python classifier.py '{param}'\"\n",
    "    command = f\"/bin/bash -c '{run_classifier_script}'\"\n",
    "\n",
    "    # Run the command and capture output\n",
    "    completed_process = subprocess.run(command, shell=True, text=True, capture_output=True)\n",
    "    return completed_process.stdout.strip()\n",
    "\n",
    "# Rest of your LLM code\n",
    "# ...\n",
    "# Call the function where needed and pass the parameter\n",
    "classifier_output = run_classifier(\"This is a test.\")\n",
    "print(\"Output from classifier:\", classifier_output)"
   ]
  }
 ],
 "metadata": {
  "kernelspec": {
   "display_name": "textgen",
   "language": "python",
   "name": "python3"
  },
  "language_info": {
   "codemirror_mode": {
    "name": "ipython",
    "version": 3
   },
   "file_extension": ".py",
   "mimetype": "text/x-python",
   "name": "python",
   "nbconvert_exporter": "python",
   "pygments_lexer": "ipython3",
   "version": "3.10.9"
  },
  "orig_nbformat": 4
 },
 "nbformat": 4,
 "nbformat_minor": 2
}
